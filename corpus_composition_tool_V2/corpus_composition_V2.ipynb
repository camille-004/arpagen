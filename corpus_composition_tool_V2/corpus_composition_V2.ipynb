{
 "cells": [
  {
   "cell_type": "markdown",
   "id": "8d29ca21-48fb-469e-ac71-bd68ba108694",
   "metadata": {},
   "source": [
    "#### Import statements"
   ]
  },
  {
   "cell_type": "code",
   "execution_count": 20,
   "id": "8ae1dbf2-c1b9-46e7-9647-a84dd34e65f9",
   "metadata": {},
   "outputs": [],
   "source": [
    "import nltk\n",
    "import json\n",
    "import re\n",
    "from time import time\n",
    "from tqdm.notebook import tqdm\n",
    "from nltk.metrics.distance import jaccard_distance\n",
    "from nltk.util import ngrams"
   ]
  },
  {
   "cell_type": "markdown",
   "id": "6476c1fb-df27-478a-bf9c-f7f273cf77e9",
   "metadata": {},
   "source": [
    "#### Arpabet Setup"
   ]
  },
  {
   "cell_type": "code",
   "execution_count": 21,
   "id": "287d326a-bbe3-408e-a725-a41030d01b8b",
   "metadata": {},
   "outputs": [],
   "source": [
    "#https://stackoverflow.com/questions/33666557/get-phonemes-from-any-word-in-python-nltk-or-other-modules\n",
    "#Set arpabet to nltk cmudict corpus. If cmudict unavalible, download it then set.\n",
    "try:\n",
    "    arpabet = nltk.corpus.cmudict.dict()\n",
    "except LookupError:\n",
    "    nltk.download('cmudict')\n",
    "    arpabet = nltk.corpus.cmudict.dict()\n",
    "\n",
    "#Keeping only the first set of phonemes\n",
    "for phoneme in arpabet: arpabet[phoneme] = arpabet[phoneme][0]\n",
    "\n",
    "accepted_words = list(arpabet.keys())\n",
    "accepted_phonemes = list(arpabet.values())"
   ]
  },
  {
   "cell_type": "code",
   "execution_count": 22,
   "id": "afa70d03-7e79-4efd-9a47-69de13ea3913",
   "metadata": {},
   "outputs": [],
   "source": [
    "# Define translation from word to phonetics\n",
    "# If word not in cmudict dictionary, find closest match (Jaccard Distance)\n",
    "def word_to_phonetic(word):\n",
    "    try:\n",
    "        phonetic = arpabet[word]\n",
    "    except:\n",
    "        closest = [(jaccard_distance(set(ngrams(word, 2)),set(ngrams(w, 2))),w) for w in accepted_words if w[0]==word[0]]\n",
    "        phonetic = arpabet[min(closest, key = lambda d: d[0])[1]]\n",
    "    return phonetic\n",
    "\n",
    "# Define translation from phonetics to words\n",
    "# If word not in cmudict dictionary, find closest match (Jaccard Distance)\n",
    "def phonetic_to_word(phonemes):\n",
    "    try:\n",
    "        word = accepted_words[accepted_phonemes.index(phonemes)]\n",
    "    except:\n",
    "        closest = [(jaccard_distance(set(phonemes),set(w)),w) for w in accepted_phonemes]\n",
    "        word = accepted_words[accepted_phonemes.index(min(closest, key = lambda t: t[0])[1])]\n",
    "    return word"
   ]
  },
  {
   "cell_type": "code",
   "execution_count": 23,
   "id": "bcb658c7-3ca9-472f-a97f-ace409939c74",
   "metadata": {},
   "outputs": [],
   "source": [
    "# Pre-processing of *.txt into sentences\n",
    "def text_to_sentences(data, split_str='\\.|\\!|\\?', remove_chars=r'[^a-zA-Z ]+'):\n",
    "    data = re.split(split_str, data)\n",
    "    data = [d.replace('\\n', ' ') for d in data]\n",
    "    data = [re.sub(remove_chars, '', d.lower()).lstrip() for d in data]\n",
    "    data = [re.sub(' +', ' ', d) for d in data]\n",
    "    return data"
   ]
  },
  {
   "cell_type": "code",
   "execution_count": 24,
   "id": "956894f2-b04b-4e95-8704-8be7a5aa67a5",
   "metadata": {},
   "outputs": [],
   "source": [
    "# Convert list of sentence to list of phoneme lists\n",
    "def sentences_to_phonemes(data):\n",
    "    return [sentence_to_phonemes(sentence) for sentence in tqdm(data)]\n",
    "\n",
    "def sentence_to_phonemes(sentence):\n",
    "    return [word_to_phonetic(word) for word in sentence.split(' ')]\n",
    "\n",
    "# Convert list of phoneme lists to sentences\n",
    "def phonemes_to_sentence(data):\n",
    "    return [phoneme_to_sentence(sentence) for sentence in tqdm(data)]\n",
    "\n",
    "def phoneme_to_sentence(phonemes):\n",
    "    return ' '.join([phonetic_to_word(phoneme) for phoneme in phonemes])"
   ]
  },
  {
   "cell_type": "code",
   "execution_count": 25,
   "id": "cd191a1f-ad5c-4587-86fd-5ffb367bc55e",
   "metadata": {},
   "outputs": [],
   "source": [
    "# Output phonemes in json format\n",
    "def to_json(jsonOutput_name, data):\n",
    "    data_as_dict = {\"Sentence \"+str(i+1):{\"Word \"+str(l+1):{\"Phoneme \"+str(m+1):n for (m, n) in enumerate(k)} for (l, k) in enumerate(j)} for (i, j) in enumerate(data)}\n",
    "    jsonOutput = open(jsonOutput_name, \"w\")\n",
    "    jsonOutput.write(json.dumps(data_as_dict, indent=4))\n",
    "    jsonOutput.close()\n",
    "\n",
    "\n",
    "# Import phonemes from json format\n",
    "def from_json(jsonInput_file):\n",
    "    data = json.load(open(jsonInput_file))\n",
    "    data = [[list(n.values()) for n in list(m.values())] for m in list(data.values())]\n",
    "    return tuple(data)"
   ]
  },
  {
   "cell_type": "code",
   "execution_count": 26,
   "id": "56cd5bf6-72a4-4178-b46e-71d886124c1c",
   "metadata": {},
   "outputs": [
    {
     "name": "stdout",
     "output_type": "stream",
     "text": [
      "----- Transcribing sentences to phonemes -----\n"
     ]
    },
    {
     "data": {
      "application/vnd.jupyter.widget-view+json": {
       "model_id": "d915c681239c4240889cb7cb9ae70231",
       "version_major": 2,
       "version_minor": 0
      },
      "text/plain": [
       "  0%|          | 0/5 [00:00<?, ?it/s]"
      ]
     },
     "metadata": {},
     "output_type": "display_data"
    },
    {
     "name": "stdout",
     "output_type": "stream",
     "text": [
      "Example phonetic transcription: [['AH0', 'N', 'D'], ['G', 'AA1', 'D'], ['S', 'AO1'], ['DH', 'AH0'], ['L', 'AY1', 'T'], ['DH', 'AE1', 'T'], ['IH1', 'T'], ['W', 'AA1', 'Z'], ['G', 'UH1', 'D'], ['AH0', 'N', 'D'], ['G', 'AA1', 'D'], ['D', 'IH0', 'V', 'AY1', 'D', 'AH0', 'D'], ['DH', 'AH0'], ['L', 'AY1', 'T'], ['F', 'R', 'AH1', 'M'], ['DH', 'AH0'], ['D', 'AA1', 'R', 'K', 'N', 'AH0', 'S']]\n",
      "----- Transcribing phonemes to sentences -----\n"
     ]
    },
    {
     "data": {
      "application/vnd.jupyter.widget-view+json": {
       "model_id": "11f2353a49514a27870502615dad7c43",
       "version_major": 2,
       "version_minor": 0
      },
      "text/plain": [
       "  0%|          | 0/5 [00:00<?, ?it/s]"
      ]
     },
     "metadata": {},
     "output_type": "display_data"
    },
    {
     "name": "stdout",
     "output_type": "stream",
     "text": [
      "Example English transcription: and god saw the light that it waas good and god divided the light from the darkness\n",
      "--- Total Time Elapsed: 0.3593268394470215 seconds ---\n"
     ]
    }
   ],
   "source": [
    "start_time = time()\n",
    "file = open(\"bible.txt\")\n",
    "data = text_to_sentences(file.read())\n",
    "data = data[:5]\n",
    "\n",
    "r = 4 #random.randint(0, len(data))\n",
    "\n",
    "print(\"----- Transcribing sentences to phonemes -----\")\n",
    "p = sentences_to_phonemes(data)\n",
    "\n",
    "print(\"Example phonetic transcription:\", p[r])\n",
    "# Get English equivilents of phonetic transcription\n",
    "\n",
    "print(\"----- Transcribing phonemes to sentences -----\")\n",
    "s = phonemes_to_sentence(p)\n",
    "\n",
    "print(\"Example English transcription:\", s[r])\n",
    "# close file\n",
    "file.close()\n",
    "\n",
    "print(\"--- Total Time Elapsed: %s seconds ---\" % (time() - start_time))\n",
    "\n",
    "to_json(\"bible.json\", p)"
   ]
  }
 ],
 "metadata": {
  "kernelspec": {
   "display_name": "Python 3 (ipykernel)",
   "language": "python",
   "name": "python3"
  },
  "language_info": {
   "codemirror_mode": {
    "name": "ipython",
    "version": 3
   },
   "file_extension": ".py",
   "mimetype": "text/x-python",
   "name": "python",
   "nbconvert_exporter": "python",
   "pygments_lexer": "ipython3",
   "version": "3.7.2"
  }
 },
 "nbformat": 4,
 "nbformat_minor": 5
}
